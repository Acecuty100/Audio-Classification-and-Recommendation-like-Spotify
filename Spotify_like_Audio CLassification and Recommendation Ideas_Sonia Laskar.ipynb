{
 "cells": [
  {
   "cell_type": "code",
   "execution_count": 11,
   "metadata": {},
   "outputs": [],
   "source": [
    "import pandas as pd\n",
    "\n",
    "# Data from the echo nest research group\n",
    "\n",
    "tracks = pd.read_csv('datasets/fma-rock-vs-hiphop.csv')\n"
   ]
  },
  {
   "cell_type": "code",
   "execution_count": 2,
   "metadata": {},
   "outputs": [
    {
     "data": {
      "text/html": [
       "<div>\n",
       "<style scoped>\n",
       "    .dataframe tbody tr th:only-of-type {\n",
       "        vertical-align: middle;\n",
       "    }\n",
       "\n",
       "    .dataframe tbody tr th {\n",
       "        vertical-align: top;\n",
       "    }\n",
       "\n",
       "    .dataframe thead th {\n",
       "        text-align: right;\n",
       "    }\n",
       "</style>\n",
       "<table border=\"1\" class=\"dataframe\">\n",
       "  <thead>\n",
       "    <tr style=\"text-align: right;\">\n",
       "      <th></th>\n",
       "      <th>track_id</th>\n",
       "      <th>bit_rate</th>\n",
       "      <th>comments</th>\n",
       "      <th>composer</th>\n",
       "      <th>date_created</th>\n",
       "      <th>date_recorded</th>\n",
       "      <th>duration</th>\n",
       "      <th>favorites</th>\n",
       "      <th>genre_top</th>\n",
       "      <th>genres</th>\n",
       "      <th>...</th>\n",
       "      <th>information</th>\n",
       "      <th>interest</th>\n",
       "      <th>language_code</th>\n",
       "      <th>license</th>\n",
       "      <th>listens</th>\n",
       "      <th>lyricist</th>\n",
       "      <th>number</th>\n",
       "      <th>publisher</th>\n",
       "      <th>tags</th>\n",
       "      <th>title</th>\n",
       "    </tr>\n",
       "  </thead>\n",
       "  <tbody>\n",
       "    <tr>\n",
       "      <th>0</th>\n",
       "      <td>135</td>\n",
       "      <td>256000</td>\n",
       "      <td>1</td>\n",
       "      <td>NaN</td>\n",
       "      <td>2008-11-26 01:43:26</td>\n",
       "      <td>2008-11-26 00:00:00</td>\n",
       "      <td>837</td>\n",
       "      <td>0</td>\n",
       "      <td>Rock</td>\n",
       "      <td>[45, 58]</td>\n",
       "      <td>...</td>\n",
       "      <td>NaN</td>\n",
       "      <td>2484</td>\n",
       "      <td>en</td>\n",
       "      <td>Attribution-NonCommercial-ShareAlike 3.0 Inter...</td>\n",
       "      <td>1832</td>\n",
       "      <td>NaN</td>\n",
       "      <td>0</td>\n",
       "      <td>NaN</td>\n",
       "      <td>[]</td>\n",
       "      <td>Father's Day</td>\n",
       "    </tr>\n",
       "    <tr>\n",
       "      <th>1</th>\n",
       "      <td>136</td>\n",
       "      <td>256000</td>\n",
       "      <td>1</td>\n",
       "      <td>NaN</td>\n",
       "      <td>2008-11-26 01:43:35</td>\n",
       "      <td>2008-11-26 00:00:00</td>\n",
       "      <td>509</td>\n",
       "      <td>0</td>\n",
       "      <td>Rock</td>\n",
       "      <td>[45, 58]</td>\n",
       "      <td>...</td>\n",
       "      <td>NaN</td>\n",
       "      <td>1948</td>\n",
       "      <td>en</td>\n",
       "      <td>Attribution-NonCommercial-ShareAlike 3.0 Inter...</td>\n",
       "      <td>1498</td>\n",
       "      <td>NaN</td>\n",
       "      <td>0</td>\n",
       "      <td>NaN</td>\n",
       "      <td>[]</td>\n",
       "      <td>Peel Back The Mountain Sky</td>\n",
       "    </tr>\n",
       "    <tr>\n",
       "      <th>2</th>\n",
       "      <td>151</td>\n",
       "      <td>192000</td>\n",
       "      <td>0</td>\n",
       "      <td>NaN</td>\n",
       "      <td>2008-11-26 01:44:55</td>\n",
       "      <td>NaN</td>\n",
       "      <td>192</td>\n",
       "      <td>0</td>\n",
       "      <td>Rock</td>\n",
       "      <td>[25]</td>\n",
       "      <td>...</td>\n",
       "      <td>NaN</td>\n",
       "      <td>701</td>\n",
       "      <td>en</td>\n",
       "      <td>Attribution-NonCommercial-ShareAlike 3.0 Inter...</td>\n",
       "      <td>148</td>\n",
       "      <td>NaN</td>\n",
       "      <td>4</td>\n",
       "      <td>NaN</td>\n",
       "      <td>[]</td>\n",
       "      <td>Untitled 04</td>\n",
       "    </tr>\n",
       "    <tr>\n",
       "      <th>3</th>\n",
       "      <td>152</td>\n",
       "      <td>192000</td>\n",
       "      <td>0</td>\n",
       "      <td>NaN</td>\n",
       "      <td>2008-11-26 01:44:58</td>\n",
       "      <td>NaN</td>\n",
       "      <td>193</td>\n",
       "      <td>0</td>\n",
       "      <td>Rock</td>\n",
       "      <td>[25]</td>\n",
       "      <td>...</td>\n",
       "      <td>NaN</td>\n",
       "      <td>637</td>\n",
       "      <td>en</td>\n",
       "      <td>Attribution-NonCommercial-ShareAlike 3.0 Inter...</td>\n",
       "      <td>98</td>\n",
       "      <td>NaN</td>\n",
       "      <td>11</td>\n",
       "      <td>NaN</td>\n",
       "      <td>[]</td>\n",
       "      <td>Untitled 11</td>\n",
       "    </tr>\n",
       "    <tr>\n",
       "      <th>4</th>\n",
       "      <td>153</td>\n",
       "      <td>256000</td>\n",
       "      <td>0</td>\n",
       "      <td>Arc and Sender</td>\n",
       "      <td>2008-11-26 01:45:00</td>\n",
       "      <td>2008-11-26 00:00:00</td>\n",
       "      <td>405</td>\n",
       "      <td>5</td>\n",
       "      <td>Rock</td>\n",
       "      <td>[26]</td>\n",
       "      <td>...</td>\n",
       "      <td>NaN</td>\n",
       "      <td>354</td>\n",
       "      <td>en</td>\n",
       "      <td>Attribution-NonCommercial-NoDerivatives (aka M...</td>\n",
       "      <td>424</td>\n",
       "      <td>NaN</td>\n",
       "      <td>2</td>\n",
       "      <td>NaN</td>\n",
       "      <td>[]</td>\n",
       "      <td>Hundred-Year Flood</td>\n",
       "    </tr>\n",
       "  </tbody>\n",
       "</table>\n",
       "<p>5 rows × 21 columns</p>\n",
       "</div>"
      ],
      "text/plain": [
       "   track_id  bit_rate  comments        composer         date_created  \\\n",
       "0       135    256000         1             NaN  2008-11-26 01:43:26   \n",
       "1       136    256000         1             NaN  2008-11-26 01:43:35   \n",
       "2       151    192000         0             NaN  2008-11-26 01:44:55   \n",
       "3       152    192000         0             NaN  2008-11-26 01:44:58   \n",
       "4       153    256000         0  Arc and Sender  2008-11-26 01:45:00   \n",
       "\n",
       "         date_recorded  duration  favorites genre_top    genres  ...  \\\n",
       "0  2008-11-26 00:00:00       837          0      Rock  [45, 58]  ...   \n",
       "1  2008-11-26 00:00:00       509          0      Rock  [45, 58]  ...   \n",
       "2                  NaN       192          0      Rock      [25]  ...   \n",
       "3                  NaN       193          0      Rock      [25]  ...   \n",
       "4  2008-11-26 00:00:00       405          5      Rock      [26]  ...   \n",
       "\n",
       "  information interest  language_code  \\\n",
       "0         NaN     2484             en   \n",
       "1         NaN     1948             en   \n",
       "2         NaN      701             en   \n",
       "3         NaN      637             en   \n",
       "4         NaN      354             en   \n",
       "\n",
       "                                             license listens  lyricist number  \\\n",
       "0  Attribution-NonCommercial-ShareAlike 3.0 Inter...    1832       NaN      0   \n",
       "1  Attribution-NonCommercial-ShareAlike 3.0 Inter...    1498       NaN      0   \n",
       "2  Attribution-NonCommercial-ShareAlike 3.0 Inter...     148       NaN      4   \n",
       "3  Attribution-NonCommercial-ShareAlike 3.0 Inter...      98       NaN     11   \n",
       "4  Attribution-NonCommercial-NoDerivatives (aka M...     424       NaN      2   \n",
       "\n",
       "   publisher tags                       title  \n",
       "0        NaN   []                Father's Day  \n",
       "1        NaN   []  Peel Back The Mountain Sky  \n",
       "2        NaN   []                 Untitled 04  \n",
       "3        NaN   []                 Untitled 11  \n",
       "4        NaN   []          Hundred-Year Flood  \n",
       "\n",
       "[5 rows x 21 columns]"
      ]
     },
     "execution_count": 2,
     "metadata": {},
     "output_type": "execute_result"
    }
   ],
   "source": [
    "tracks.head()"
   ]
  },
  {
   "cell_type": "code",
   "execution_count": 3,
   "metadata": {},
   "outputs": [
    {
     "data": {
      "text/plain": [
       "(17734, 21)"
      ]
     },
     "execution_count": 3,
     "metadata": {},
     "output_type": "execute_result"
    }
   ],
   "source": [
    "tracks.shape"
   ]
  },
  {
   "cell_type": "code",
   "execution_count": 4,
   "metadata": {},
   "outputs": [
    {
     "data": {
      "text/plain": [
       "Index(['track_id', 'bit_rate', 'comments', 'composer', 'date_created',\n",
       "       'date_recorded', 'duration', 'favorites', 'genre_top', 'genres',\n",
       "       'genres_all', 'information', 'interest', 'language_code', 'license',\n",
       "       'listens', 'lyricist', 'number', 'publisher', 'tags', 'title'],\n",
       "      dtype='object')"
      ]
     },
     "execution_count": 4,
     "metadata": {},
     "output_type": "execute_result"
    }
   ],
   "source": [
    "tracks.columns"
   ]
  },
  {
   "cell_type": "code",
   "execution_count": 5,
   "metadata": {},
   "outputs": [],
   "source": [
    "# Read in track metrics with the features\n",
    "echonest_metrics = pd.read_json('datasets/echonest-metrics.json', precise_float=True)"
   ]
  },
  {
   "cell_type": "code",
   "execution_count": 7,
   "metadata": {},
   "outputs": [
    {
     "data": {
      "text/html": [
       "<div>\n",
       "<style scoped>\n",
       "    .dataframe tbody tr th:only-of-type {\n",
       "        vertical-align: middle;\n",
       "    }\n",
       "\n",
       "    .dataframe tbody tr th {\n",
       "        vertical-align: top;\n",
       "    }\n",
       "\n",
       "    .dataframe thead th {\n",
       "        text-align: right;\n",
       "    }\n",
       "</style>\n",
       "<table border=\"1\" class=\"dataframe\">\n",
       "  <thead>\n",
       "    <tr style=\"text-align: right;\">\n",
       "      <th></th>\n",
       "      <th>track_id</th>\n",
       "      <th>acousticness</th>\n",
       "      <th>danceability</th>\n",
       "      <th>energy</th>\n",
       "      <th>instrumentalness</th>\n",
       "      <th>liveness</th>\n",
       "      <th>speechiness</th>\n",
       "      <th>tempo</th>\n",
       "      <th>valence</th>\n",
       "    </tr>\n",
       "  </thead>\n",
       "  <tbody>\n",
       "    <tr>\n",
       "      <th>0</th>\n",
       "      <td>2</td>\n",
       "      <td>0.416675</td>\n",
       "      <td>0.675894</td>\n",
       "      <td>0.634476</td>\n",
       "      <td>0.010628</td>\n",
       "      <td>0.177647</td>\n",
       "      <td>0.159310</td>\n",
       "      <td>165.922</td>\n",
       "      <td>0.576661</td>\n",
       "    </tr>\n",
       "    <tr>\n",
       "      <th>1</th>\n",
       "      <td>3</td>\n",
       "      <td>0.374408</td>\n",
       "      <td>0.528643</td>\n",
       "      <td>0.817461</td>\n",
       "      <td>0.001851</td>\n",
       "      <td>0.105880</td>\n",
       "      <td>0.461818</td>\n",
       "      <td>126.957</td>\n",
       "      <td>0.269240</td>\n",
       "    </tr>\n",
       "    <tr>\n",
       "      <th>2</th>\n",
       "      <td>5</td>\n",
       "      <td>0.043567</td>\n",
       "      <td>0.745566</td>\n",
       "      <td>0.701470</td>\n",
       "      <td>0.000697</td>\n",
       "      <td>0.373143</td>\n",
       "      <td>0.124595</td>\n",
       "      <td>100.260</td>\n",
       "      <td>0.621661</td>\n",
       "    </tr>\n",
       "    <tr>\n",
       "      <th>3</th>\n",
       "      <td>10</td>\n",
       "      <td>0.951670</td>\n",
       "      <td>0.658179</td>\n",
       "      <td>0.924525</td>\n",
       "      <td>0.965427</td>\n",
       "      <td>0.115474</td>\n",
       "      <td>0.032985</td>\n",
       "      <td>111.562</td>\n",
       "      <td>0.963590</td>\n",
       "    </tr>\n",
       "    <tr>\n",
       "      <th>4</th>\n",
       "      <td>134</td>\n",
       "      <td>0.452217</td>\n",
       "      <td>0.513238</td>\n",
       "      <td>0.560410</td>\n",
       "      <td>0.019443</td>\n",
       "      <td>0.096567</td>\n",
       "      <td>0.525519</td>\n",
       "      <td>114.290</td>\n",
       "      <td>0.894072</td>\n",
       "    </tr>\n",
       "  </tbody>\n",
       "</table>\n",
       "</div>"
      ],
      "text/plain": [
       "   track_id  acousticness  danceability    energy  instrumentalness  liveness  \\\n",
       "0         2      0.416675      0.675894  0.634476          0.010628  0.177647   \n",
       "1         3      0.374408      0.528643  0.817461          0.001851  0.105880   \n",
       "2         5      0.043567      0.745566  0.701470          0.000697  0.373143   \n",
       "3        10      0.951670      0.658179  0.924525          0.965427  0.115474   \n",
       "4       134      0.452217      0.513238  0.560410          0.019443  0.096567   \n",
       "\n",
       "   speechiness    tempo   valence  \n",
       "0     0.159310  165.922  0.576661  \n",
       "1     0.461818  126.957  0.269240  \n",
       "2     0.124595  100.260  0.621661  \n",
       "3     0.032985  111.562  0.963590  \n",
       "4     0.525519  114.290  0.894072  "
      ]
     },
     "execution_count": 7,
     "metadata": {},
     "output_type": "execute_result"
    }
   ],
   "source": [
    "echonest_metrics.head()"
   ]
  },
  {
   "cell_type": "code",
   "execution_count": 8,
   "metadata": {},
   "outputs": [
    {
     "data": {
      "text/plain": [
       "(13129, 9)"
      ]
     },
     "execution_count": 8,
     "metadata": {},
     "output_type": "execute_result"
    }
   ],
   "source": [
    "echonest_metrics.shape"
   ]
  },
  {
   "cell_type": "code",
   "execution_count": null,
   "metadata": {},
   "outputs": [],
   "source": []
  },
  {
   "cell_type": "code",
   "execution_count": 9,
   "metadata": {},
   "outputs": [],
   "source": [
    "echo_tracks = echonest_metrics.merge(tracks[['genre_top', 'track_id']], on='track_id')"
   ]
  },
  {
   "cell_type": "code",
   "execution_count": 10,
   "metadata": {},
   "outputs": [
    {
     "name": "stdout",
     "output_type": "stream",
     "text": [
      "<class 'pandas.core.frame.DataFrame'>\n",
      "Int64Index: 4802 entries, 0 to 4801\n",
      "Data columns (total 10 columns):\n",
      " #   Column            Non-Null Count  Dtype  \n",
      "---  ------            --------------  -----  \n",
      " 0   track_id          4802 non-null   int64  \n",
      " 1   acousticness      4802 non-null   float64\n",
      " 2   danceability      4802 non-null   float64\n",
      " 3   energy            4802 non-null   float64\n",
      " 4   instrumentalness  4802 non-null   float64\n",
      " 5   liveness          4802 non-null   float64\n",
      " 6   speechiness       4802 non-null   float64\n",
      " 7   tempo             4802 non-null   float64\n",
      " 8   valence           4802 non-null   float64\n",
      " 9   genre_top         4802 non-null   object \n",
      "dtypes: float64(8), int64(1), object(1)\n",
      "memory usage: 412.7+ KB\n"
     ]
    }
   ],
   "source": [
    "echo_tracks.info()"
   ]
  },
  {
   "cell_type": "code",
   "execution_count": 12,
   "metadata": {},
   "outputs": [
    {
     "data": {
      "text/html": [
       "<style  type=\"text/css\" >\n",
       "#T_3d48eef0_73ad_11eb_beed_80e650149764row0_col0,#T_3d48eef0_73ad_11eb_beed_80e650149764row1_col1,#T_3d48eef0_73ad_11eb_beed_80e650149764row2_col2,#T_3d48eef0_73ad_11eb_beed_80e650149764row3_col3,#T_3d48eef0_73ad_11eb_beed_80e650149764row4_col4,#T_3d48eef0_73ad_11eb_beed_80e650149764row5_col5,#T_3d48eef0_73ad_11eb_beed_80e650149764row6_col6,#T_3d48eef0_73ad_11eb_beed_80e650149764row7_col7,#T_3d48eef0_73ad_11eb_beed_80e650149764row8_col8{\n",
       "            background-color:  #023858;\n",
       "            color:  #f1f1f1;\n",
       "        }#T_3d48eef0_73ad_11eb_beed_80e650149764row0_col1{\n",
       "            background-color:  #eae6f1;\n",
       "            color:  #000000;\n",
       "        }#T_3d48eef0_73ad_11eb_beed_80e650149764row0_col2{\n",
       "            background-color:  #d2d2e7;\n",
       "            color:  #000000;\n",
       "        }#T_3d48eef0_73ad_11eb_beed_80e650149764row0_col3{\n",
       "            background-color:  #9ab8d8;\n",
       "            color:  #000000;\n",
       "        }#T_3d48eef0_73ad_11eb_beed_80e650149764row0_col4,#T_3d48eef0_73ad_11eb_beed_80e650149764row1_col0,#T_3d48eef0_73ad_11eb_beed_80e650149764row1_col2,#T_3d48eef0_73ad_11eb_beed_80e650149764row1_col3,#T_3d48eef0_73ad_11eb_beed_80e650149764row1_col7,#T_3d48eef0_73ad_11eb_beed_80e650149764row2_col5,#T_3d48eef0_73ad_11eb_beed_80e650149764row3_col1,#T_3d48eef0_73ad_11eb_beed_80e650149764row4_col0,#T_3d48eef0_73ad_11eb_beed_80e650149764row4_col6,#T_3d48eef0_73ad_11eb_beed_80e650149764row4_col8{\n",
       "            background-color:  #fff7fb;\n",
       "            color:  #000000;\n",
       "        }#T_3d48eef0_73ad_11eb_beed_80e650149764row0_col5{\n",
       "            background-color:  #ede7f2;\n",
       "            color:  #000000;\n",
       "        }#T_3d48eef0_73ad_11eb_beed_80e650149764row0_col6{\n",
       "            background-color:  #eee8f3;\n",
       "            color:  #000000;\n",
       "        }#T_3d48eef0_73ad_11eb_beed_80e650149764row0_col7{\n",
       "            background-color:  #f0eaf4;\n",
       "            color:  #000000;\n",
       "        }#T_3d48eef0_73ad_11eb_beed_80e650149764row0_col8{\n",
       "            background-color:  #e8e4f0;\n",
       "            color:  #000000;\n",
       "        }#T_3d48eef0_73ad_11eb_beed_80e650149764row1_col4{\n",
       "            background-color:  #bdc8e1;\n",
       "            color:  #000000;\n",
       "        }#T_3d48eef0_73ad_11eb_beed_80e650149764row1_col5,#T_3d48eef0_73ad_11eb_beed_80e650149764row6_col0{\n",
       "            background-color:  #e4e1ef;\n",
       "            color:  #000000;\n",
       "        }#T_3d48eef0_73ad_11eb_beed_80e650149764row1_col6,#T_3d48eef0_73ad_11eb_beed_80e650149764row6_col8{\n",
       "            background-color:  #d9d8ea;\n",
       "            color:  #000000;\n",
       "        }#T_3d48eef0_73ad_11eb_beed_80e650149764row1_col8,#T_3d48eef0_73ad_11eb_beed_80e650149764row6_col4{\n",
       "            background-color:  #f7f0f7;\n",
       "            color:  #000000;\n",
       "        }#T_3d48eef0_73ad_11eb_beed_80e650149764row2_col0{\n",
       "            background-color:  #c0c9e2;\n",
       "            color:  #000000;\n",
       "        }#T_3d48eef0_73ad_11eb_beed_80e650149764row2_col1{\n",
       "            background-color:  #dddbec;\n",
       "            color:  #000000;\n",
       "        }#T_3d48eef0_73ad_11eb_beed_80e650149764row2_col3,#T_3d48eef0_73ad_11eb_beed_80e650149764row5_col3{\n",
       "            background-color:  #adc1dd;\n",
       "            color:  #000000;\n",
       "        }#T_3d48eef0_73ad_11eb_beed_80e650149764row2_col4,#T_3d48eef0_73ad_11eb_beed_80e650149764row6_col7{\n",
       "            background-color:  #ece7f2;\n",
       "            color:  #000000;\n",
       "        }#T_3d48eef0_73ad_11eb_beed_80e650149764row2_col6,#T_3d48eef0_73ad_11eb_beed_80e650149764row3_col8,#T_3d48eef0_73ad_11eb_beed_80e650149764row6_col3{\n",
       "            background-color:  #b9c6e0;\n",
       "            color:  #000000;\n",
       "        }#T_3d48eef0_73ad_11eb_beed_80e650149764row2_col7{\n",
       "            background-color:  #fdf5fa;\n",
       "            color:  #000000;\n",
       "        }#T_3d48eef0_73ad_11eb_beed_80e650149764row2_col8{\n",
       "            background-color:  #73a9cf;\n",
       "            color:  #000000;\n",
       "        }#T_3d48eef0_73ad_11eb_beed_80e650149764row3_col0{\n",
       "            background-color:  #bbc7e0;\n",
       "            color:  #000000;\n",
       "        }#T_3d48eef0_73ad_11eb_beed_80e650149764row3_col2{\n",
       "            background-color:  #dcdaeb;\n",
       "            color:  #000000;\n",
       "        }#T_3d48eef0_73ad_11eb_beed_80e650149764row3_col4{\n",
       "            background-color:  #d7d6e9;\n",
       "            color:  #000000;\n",
       "        }#T_3d48eef0_73ad_11eb_beed_80e650149764row3_col5{\n",
       "            background-color:  #e3e0ee;\n",
       "            color:  #000000;\n",
       "        }#T_3d48eef0_73ad_11eb_beed_80e650149764row3_col6{\n",
       "            background-color:  #e2dfee;\n",
       "            color:  #000000;\n",
       "        }#T_3d48eef0_73ad_11eb_beed_80e650149764row3_col7,#T_3d48eef0_73ad_11eb_beed_80e650149764row6_col2{\n",
       "            background-color:  #bfc9e1;\n",
       "            color:  #000000;\n",
       "        }#T_3d48eef0_73ad_11eb_beed_80e650149764row4_col1{\n",
       "            background-color:  #9ebad9;\n",
       "            color:  #000000;\n",
       "        }#T_3d48eef0_73ad_11eb_beed_80e650149764row4_col2{\n",
       "            background-color:  #f6eff7;\n",
       "            color:  #000000;\n",
       "        }#T_3d48eef0_73ad_11eb_beed_80e650149764row4_col3{\n",
       "            background-color:  #b8c6e0;\n",
       "            color:  #000000;\n",
       "        }#T_3d48eef0_73ad_11eb_beed_80e650149764row4_col5{\n",
       "            background-color:  #f4eef6;\n",
       "            color:  #000000;\n",
       "        }#T_3d48eef0_73ad_11eb_beed_80e650149764row4_col7,#T_3d48eef0_73ad_11eb_beed_80e650149764row7_col5{\n",
       "            background-color:  #ede8f3;\n",
       "            color:  #000000;\n",
       "        }#T_3d48eef0_73ad_11eb_beed_80e650149764row5_col0,#T_3d48eef0_73ad_11eb_beed_80e650149764row8_col7{\n",
       "            background-color:  #d8d7e9;\n",
       "            color:  #000000;\n",
       "        }#T_3d48eef0_73ad_11eb_beed_80e650149764row5_col1,#T_3d48eef0_73ad_11eb_beed_80e650149764row6_col1{\n",
       "            background-color:  #afc1dd;\n",
       "            color:  #000000;\n",
       "        }#T_3d48eef0_73ad_11eb_beed_80e650149764row5_col2{\n",
       "            background-color:  #faf2f8;\n",
       "            color:  #000000;\n",
       "        }#T_3d48eef0_73ad_11eb_beed_80e650149764row5_col4{\n",
       "            background-color:  #e1dfed;\n",
       "            color:  #000000;\n",
       "        }#T_3d48eef0_73ad_11eb_beed_80e650149764row5_col6,#T_3d48eef0_73ad_11eb_beed_80e650149764row8_col0{\n",
       "            background-color:  #d3d4e7;\n",
       "            color:  #000000;\n",
       "        }#T_3d48eef0_73ad_11eb_beed_80e650149764row5_col7{\n",
       "            background-color:  #f1ebf5;\n",
       "            color:  #000000;\n",
       "        }#T_3d48eef0_73ad_11eb_beed_80e650149764row5_col8,#T_3d48eef0_73ad_11eb_beed_80e650149764row8_col5{\n",
       "            background-color:  #eee9f3;\n",
       "            color:  #000000;\n",
       "        }#T_3d48eef0_73ad_11eb_beed_80e650149764row6_col5{\n",
       "            background-color:  #dedcec;\n",
       "            color:  #000000;\n",
       "        }#T_3d48eef0_73ad_11eb_beed_80e650149764row7_col0{\n",
       "            background-color:  #d6d6e9;\n",
       "            color:  #000000;\n",
       "        }#T_3d48eef0_73ad_11eb_beed_80e650149764row7_col1{\n",
       "            background-color:  #d1d2e6;\n",
       "            color:  #000000;\n",
       "        }#T_3d48eef0_73ad_11eb_beed_80e650149764row7_col2{\n",
       "            background-color:  #f3edf5;\n",
       "            color:  #000000;\n",
       "        }#T_3d48eef0_73ad_11eb_beed_80e650149764row7_col3{\n",
       "            background-color:  #7dacd1;\n",
       "            color:  #000000;\n",
       "        }#T_3d48eef0_73ad_11eb_beed_80e650149764row7_col4,#T_3d48eef0_73ad_11eb_beed_80e650149764row7_col8{\n",
       "            background-color:  #d2d3e7;\n",
       "            color:  #000000;\n",
       "        }#T_3d48eef0_73ad_11eb_beed_80e650149764row7_col6{\n",
       "            background-color:  #dad9ea;\n",
       "            color:  #000000;\n",
       "        }#T_3d48eef0_73ad_11eb_beed_80e650149764row8_col1{\n",
       "            background-color:  #cccfe5;\n",
       "            color:  #000000;\n",
       "        }#T_3d48eef0_73ad_11eb_beed_80e650149764row8_col2{\n",
       "            background-color:  #69a5cc;\n",
       "            color:  #000000;\n",
       "        }#T_3d48eef0_73ad_11eb_beed_80e650149764row8_col3{\n",
       "            background-color:  #80aed2;\n",
       "            color:  #000000;\n",
       "        }#T_3d48eef0_73ad_11eb_beed_80e650149764row8_col4{\n",
       "            background-color:  #efe9f3;\n",
       "            color:  #000000;\n",
       "        }#T_3d48eef0_73ad_11eb_beed_80e650149764row8_col6{\n",
       "            background-color:  #ced0e6;\n",
       "            color:  #000000;\n",
       "        }</style><table id=\"T_3d48eef0_73ad_11eb_beed_80e650149764\" ><thead>    <tr>        <th class=\"blank level0\" ></th>        <th class=\"col_heading level0 col0\" >track_id</th>        <th class=\"col_heading level0 col1\" >acousticness</th>        <th class=\"col_heading level0 col2\" >danceability</th>        <th class=\"col_heading level0 col3\" >energy</th>        <th class=\"col_heading level0 col4\" >instrumentalness</th>        <th class=\"col_heading level0 col5\" >liveness</th>        <th class=\"col_heading level0 col6\" >speechiness</th>        <th class=\"col_heading level0 col7\" >tempo</th>        <th class=\"col_heading level0 col8\" >valence</th>    </tr></thead><tbody>\n",
       "                <tr>\n",
       "                        <th id=\"T_3d48eef0_73ad_11eb_beed_80e650149764level0_row0\" class=\"row_heading level0 row0\" >track_id</th>\n",
       "                        <td id=\"T_3d48eef0_73ad_11eb_beed_80e650149764row0_col0\" class=\"data row0 col0\" >1.000000</td>\n",
       "                        <td id=\"T_3d48eef0_73ad_11eb_beed_80e650149764row0_col1\" class=\"data row0 col1\" >-0.279829</td>\n",
       "                        <td id=\"T_3d48eef0_73ad_11eb_beed_80e650149764row0_col2\" class=\"data row0 col2\" >0.102056</td>\n",
       "                        <td id=\"T_3d48eef0_73ad_11eb_beed_80e650149764row0_col3\" class=\"data row0 col3\" >0.121991</td>\n",
       "                        <td id=\"T_3d48eef0_73ad_11eb_beed_80e650149764row0_col4\" class=\"data row0 col4\" >-0.283206</td>\n",
       "                        <td id=\"T_3d48eef0_73ad_11eb_beed_80e650149764row0_col5\" class=\"data row0 col5\" >-0.004059</td>\n",
       "                        <td id=\"T_3d48eef0_73ad_11eb_beed_80e650149764row0_col6\" class=\"data row0 col6\" >-0.075077</td>\n",
       "                        <td id=\"T_3d48eef0_73ad_11eb_beed_80e650149764row0_col7\" class=\"data row0 col7\" >0.004313</td>\n",
       "                        <td id=\"T_3d48eef0_73ad_11eb_beed_80e650149764row0_col8\" class=\"data row0 col8\" >0.020201</td>\n",
       "            </tr>\n",
       "            <tr>\n",
       "                        <th id=\"T_3d48eef0_73ad_11eb_beed_80e650149764level0_row1\" class=\"row_heading level0 row1\" >acousticness</th>\n",
       "                        <td id=\"T_3d48eef0_73ad_11eb_beed_80e650149764row1_col0\" class=\"data row1 col0\" >-0.279829</td>\n",
       "                        <td id=\"T_3d48eef0_73ad_11eb_beed_80e650149764row1_col1\" class=\"data row1 col1\" >1.000000</td>\n",
       "                        <td id=\"T_3d48eef0_73ad_11eb_beed_80e650149764row1_col2\" class=\"data row1 col2\" >-0.189599</td>\n",
       "                        <td id=\"T_3d48eef0_73ad_11eb_beed_80e650149764row1_col3\" class=\"data row1 col3\" >-0.477273</td>\n",
       "                        <td id=\"T_3d48eef0_73ad_11eb_beed_80e650149764row1_col4\" class=\"data row1 col4\" >0.110033</td>\n",
       "                        <td id=\"T_3d48eef0_73ad_11eb_beed_80e650149764row1_col5\" class=\"data row1 col5\" >0.041319</td>\n",
       "                        <td id=\"T_3d48eef0_73ad_11eb_beed_80e650149764row1_col6\" class=\"data row1 col6\" >0.038785</td>\n",
       "                        <td id=\"T_3d48eef0_73ad_11eb_beed_80e650149764row1_col7\" class=\"data row1 col7\" >-0.110701</td>\n",
       "                        <td id=\"T_3d48eef0_73ad_11eb_beed_80e650149764row1_col8\" class=\"data row1 col8\" >-0.085436</td>\n",
       "            </tr>\n",
       "            <tr>\n",
       "                        <th id=\"T_3d48eef0_73ad_11eb_beed_80e650149764level0_row2\" class=\"row_heading level0 row2\" >danceability</th>\n",
       "                        <td id=\"T_3d48eef0_73ad_11eb_beed_80e650149764row2_col0\" class=\"data row2 col0\" >0.102056</td>\n",
       "                        <td id=\"T_3d48eef0_73ad_11eb_beed_80e650149764row2_col1\" class=\"data row2 col1\" >-0.189599</td>\n",
       "                        <td id=\"T_3d48eef0_73ad_11eb_beed_80e650149764row2_col2\" class=\"data row2 col2\" >1.000000</td>\n",
       "                        <td id=\"T_3d48eef0_73ad_11eb_beed_80e650149764row2_col3\" class=\"data row2 col3\" >0.045345</td>\n",
       "                        <td id=\"T_3d48eef0_73ad_11eb_beed_80e650149764row2_col4\" class=\"data row2 col4\" >-0.118033</td>\n",
       "                        <td id=\"T_3d48eef0_73ad_11eb_beed_80e650149764row2_col5\" class=\"data row2 col5\" >-0.143339</td>\n",
       "                        <td id=\"T_3d48eef0_73ad_11eb_beed_80e650149764row2_col6\" class=\"data row2 col6\" >0.171311</td>\n",
       "                        <td id=\"T_3d48eef0_73ad_11eb_beed_80e650149764row2_col7\" class=\"data row2 col7\" >-0.094352</td>\n",
       "                        <td id=\"T_3d48eef0_73ad_11eb_beed_80e650149764row2_col8\" class=\"data row2 col8\" >0.428515</td>\n",
       "            </tr>\n",
       "            <tr>\n",
       "                        <th id=\"T_3d48eef0_73ad_11eb_beed_80e650149764level0_row3\" class=\"row_heading level0 row3\" >energy</th>\n",
       "                        <td id=\"T_3d48eef0_73ad_11eb_beed_80e650149764row3_col0\" class=\"data row3 col0\" >0.121991</td>\n",
       "                        <td id=\"T_3d48eef0_73ad_11eb_beed_80e650149764row3_col1\" class=\"data row3 col1\" >-0.477273</td>\n",
       "                        <td id=\"T_3d48eef0_73ad_11eb_beed_80e650149764row3_col2\" class=\"data row3 col2\" >0.045345</td>\n",
       "                        <td id=\"T_3d48eef0_73ad_11eb_beed_80e650149764row3_col3\" class=\"data row3 col3\" >1.000000</td>\n",
       "                        <td id=\"T_3d48eef0_73ad_11eb_beed_80e650149764row3_col4\" class=\"data row3 col4\" >-0.002412</td>\n",
       "                        <td id=\"T_3d48eef0_73ad_11eb_beed_80e650149764row3_col5\" class=\"data row3 col5\" >0.045752</td>\n",
       "                        <td id=\"T_3d48eef0_73ad_11eb_beed_80e650149764row3_col6\" class=\"data row3 col6\" >-0.008645</td>\n",
       "                        <td id=\"T_3d48eef0_73ad_11eb_beed_80e650149764row3_col7\" class=\"data row3 col7\" >0.227324</td>\n",
       "                        <td id=\"T_3d48eef0_73ad_11eb_beed_80e650149764row3_col8\" class=\"data row3 col8\" >0.219384</td>\n",
       "            </tr>\n",
       "            <tr>\n",
       "                        <th id=\"T_3d48eef0_73ad_11eb_beed_80e650149764level0_row4\" class=\"row_heading level0 row4\" >instrumentalness</th>\n",
       "                        <td id=\"T_3d48eef0_73ad_11eb_beed_80e650149764row4_col0\" class=\"data row4 col0\" >-0.283206</td>\n",
       "                        <td id=\"T_3d48eef0_73ad_11eb_beed_80e650149764row4_col1\" class=\"data row4 col1\" >0.110033</td>\n",
       "                        <td id=\"T_3d48eef0_73ad_11eb_beed_80e650149764row4_col2\" class=\"data row4 col2\" >-0.118033</td>\n",
       "                        <td id=\"T_3d48eef0_73ad_11eb_beed_80e650149764row4_col3\" class=\"data row4 col3\" >-0.002412</td>\n",
       "                        <td id=\"T_3d48eef0_73ad_11eb_beed_80e650149764row4_col4\" class=\"data row4 col4\" >1.000000</td>\n",
       "                        <td id=\"T_3d48eef0_73ad_11eb_beed_80e650149764row4_col5\" class=\"data row4 col5\" >-0.058593</td>\n",
       "                        <td id=\"T_3d48eef0_73ad_11eb_beed_80e650149764row4_col6\" class=\"data row4 col6\" >-0.216689</td>\n",
       "                        <td id=\"T_3d48eef0_73ad_11eb_beed_80e650149764row4_col7\" class=\"data row4 col7\" >0.023003</td>\n",
       "                        <td id=\"T_3d48eef0_73ad_11eb_beed_80e650149764row4_col8\" class=\"data row4 col8\" >-0.145200</td>\n",
       "            </tr>\n",
       "            <tr>\n",
       "                        <th id=\"T_3d48eef0_73ad_11eb_beed_80e650149764level0_row5\" class=\"row_heading level0 row5\" >liveness</th>\n",
       "                        <td id=\"T_3d48eef0_73ad_11eb_beed_80e650149764row5_col0\" class=\"data row5 col0\" >-0.004059</td>\n",
       "                        <td id=\"T_3d48eef0_73ad_11eb_beed_80e650149764row5_col1\" class=\"data row5 col1\" >0.041319</td>\n",
       "                        <td id=\"T_3d48eef0_73ad_11eb_beed_80e650149764row5_col2\" class=\"data row5 col2\" >-0.143339</td>\n",
       "                        <td id=\"T_3d48eef0_73ad_11eb_beed_80e650149764row5_col3\" class=\"data row5 col3\" >0.045752</td>\n",
       "                        <td id=\"T_3d48eef0_73ad_11eb_beed_80e650149764row5_col4\" class=\"data row5 col4\" >-0.058593</td>\n",
       "                        <td id=\"T_3d48eef0_73ad_11eb_beed_80e650149764row5_col5\" class=\"data row5 col5\" >1.000000</td>\n",
       "                        <td id=\"T_3d48eef0_73ad_11eb_beed_80e650149764row5_col6\" class=\"data row5 col6\" >0.073104</td>\n",
       "                        <td id=\"T_3d48eef0_73ad_11eb_beed_80e650149764row5_col7\" class=\"data row5 col7\" >-0.007566</td>\n",
       "                        <td id=\"T_3d48eef0_73ad_11eb_beed_80e650149764row5_col8\" class=\"data row5 col8\" >-0.017886</td>\n",
       "            </tr>\n",
       "            <tr>\n",
       "                        <th id=\"T_3d48eef0_73ad_11eb_beed_80e650149764level0_row6\" class=\"row_heading level0 row6\" >speechiness</th>\n",
       "                        <td id=\"T_3d48eef0_73ad_11eb_beed_80e650149764row6_col0\" class=\"data row6 col0\" >-0.075077</td>\n",
       "                        <td id=\"T_3d48eef0_73ad_11eb_beed_80e650149764row6_col1\" class=\"data row6 col1\" >0.038785</td>\n",
       "                        <td id=\"T_3d48eef0_73ad_11eb_beed_80e650149764row6_col2\" class=\"data row6 col2\" >0.171311</td>\n",
       "                        <td id=\"T_3d48eef0_73ad_11eb_beed_80e650149764row6_col3\" class=\"data row6 col3\" >-0.008645</td>\n",
       "                        <td id=\"T_3d48eef0_73ad_11eb_beed_80e650149764row6_col4\" class=\"data row6 col4\" >-0.216689</td>\n",
       "                        <td id=\"T_3d48eef0_73ad_11eb_beed_80e650149764row6_col5\" class=\"data row6 col5\" >0.073104</td>\n",
       "                        <td id=\"T_3d48eef0_73ad_11eb_beed_80e650149764row6_col6\" class=\"data row6 col6\" >1.000000</td>\n",
       "                        <td id=\"T_3d48eef0_73ad_11eb_beed_80e650149764row6_col7\" class=\"data row6 col7\" >0.032188</td>\n",
       "                        <td id=\"T_3d48eef0_73ad_11eb_beed_80e650149764row6_col8\" class=\"data row6 col8\" >0.094794</td>\n",
       "            </tr>\n",
       "            <tr>\n",
       "                        <th id=\"T_3d48eef0_73ad_11eb_beed_80e650149764level0_row7\" class=\"row_heading level0 row7\" >tempo</th>\n",
       "                        <td id=\"T_3d48eef0_73ad_11eb_beed_80e650149764row7_col0\" class=\"data row7 col0\" >0.004313</td>\n",
       "                        <td id=\"T_3d48eef0_73ad_11eb_beed_80e650149764row7_col1\" class=\"data row7 col1\" >-0.110701</td>\n",
       "                        <td id=\"T_3d48eef0_73ad_11eb_beed_80e650149764row7_col2\" class=\"data row7 col2\" >-0.094352</td>\n",
       "                        <td id=\"T_3d48eef0_73ad_11eb_beed_80e650149764row7_col3\" class=\"data row7 col3\" >0.227324</td>\n",
       "                        <td id=\"T_3d48eef0_73ad_11eb_beed_80e650149764row7_col4\" class=\"data row7 col4\" >0.023003</td>\n",
       "                        <td id=\"T_3d48eef0_73ad_11eb_beed_80e650149764row7_col5\" class=\"data row7 col5\" >-0.007566</td>\n",
       "                        <td id=\"T_3d48eef0_73ad_11eb_beed_80e650149764row7_col6\" class=\"data row7 col6\" >0.032188</td>\n",
       "                        <td id=\"T_3d48eef0_73ad_11eb_beed_80e650149764row7_col7\" class=\"data row7 col7\" >1.000000</td>\n",
       "                        <td id=\"T_3d48eef0_73ad_11eb_beed_80e650149764row7_col8\" class=\"data row7 col8\" >0.129911</td>\n",
       "            </tr>\n",
       "            <tr>\n",
       "                        <th id=\"T_3d48eef0_73ad_11eb_beed_80e650149764level0_row8\" class=\"row_heading level0 row8\" >valence</th>\n",
       "                        <td id=\"T_3d48eef0_73ad_11eb_beed_80e650149764row8_col0\" class=\"data row8 col0\" >0.020201</td>\n",
       "                        <td id=\"T_3d48eef0_73ad_11eb_beed_80e650149764row8_col1\" class=\"data row8 col1\" >-0.085436</td>\n",
       "                        <td id=\"T_3d48eef0_73ad_11eb_beed_80e650149764row8_col2\" class=\"data row8 col2\" >0.428515</td>\n",
       "                        <td id=\"T_3d48eef0_73ad_11eb_beed_80e650149764row8_col3\" class=\"data row8 col3\" >0.219384</td>\n",
       "                        <td id=\"T_3d48eef0_73ad_11eb_beed_80e650149764row8_col4\" class=\"data row8 col4\" >-0.145200</td>\n",
       "                        <td id=\"T_3d48eef0_73ad_11eb_beed_80e650149764row8_col5\" class=\"data row8 col5\" >-0.017886</td>\n",
       "                        <td id=\"T_3d48eef0_73ad_11eb_beed_80e650149764row8_col6\" class=\"data row8 col6\" >0.094794</td>\n",
       "                        <td id=\"T_3d48eef0_73ad_11eb_beed_80e650149764row8_col7\" class=\"data row8 col7\" >0.129911</td>\n",
       "                        <td id=\"T_3d48eef0_73ad_11eb_beed_80e650149764row8_col8\" class=\"data row8 col8\" >1.000000</td>\n",
       "            </tr>\n",
       "    </tbody></table>"
      ],
      "text/plain": [
       "<pandas.io.formats.style.Styler at 0x7f95e9381340>"
      ]
     },
     "execution_count": 12,
     "metadata": {},
     "output_type": "execute_result"
    }
   ],
   "source": [
    "corr_metrics = echonest_metrics.corr()\n",
    "corr_metrics.style.background_gradient()"
   ]
  },
  {
   "cell_type": "code",
   "execution_count": 13,
   "metadata": {},
   "outputs": [],
   "source": [
    "features = echo_tracks.drop(columns=['genre_top', 'track_id']) "
   ]
  },
  {
   "cell_type": "code",
   "execution_count": 14,
   "metadata": {},
   "outputs": [],
   "source": [
    "labels = echo_tracks['genre_top']"
   ]
  },
  {
   "cell_type": "code",
   "execution_count": 15,
   "metadata": {},
   "outputs": [],
   "source": [
    "from sklearn.preprocessing import StandardScaler\n",
    "\n",
    "scaler = StandardScaler()\n",
    "scaled_train_features = scaler.fit_transform(features)"
   ]
  },
  {
   "cell_type": "code",
   "execution_count": 18,
   "metadata": {},
   "outputs": [
    {
     "data": {
      "image/png": "[encoded data removed]",
      "text/plain": [
       "<Figure size 432x288 with 1 Axes>"
      ]
     },
     "metadata": {
      "needs_background": "light"
     },
     "output_type": "display_data"
    }
   ],
   "source": [
    "import matplotlib.pyplot as plt\n",
    "from sklearn.decomposition import PCA\n",
    "%matplotlib inline\n",
    "\n",
    "pca = PCA()\n",
    "pca.fit(scaled_train_features)\n",
    "exp_variance = pca.explained_variance_ratio_\n",
    "\n",
    "fig, ax = plt.subplots()\n",
    "ax.bar(range(pca.n_components_), exp_variance)\n",
    "ax.set_xlabel('Principal Component #')\n",
    "plt.title('Scree Plots')\n",
    "plt.show()"
   ]
  },
  {
   "cell_type": "code",
   "execution_count": 24,
   "metadata": {},
   "outputs": [
    {
     "data": {
      "image/png": "[encoded data removed]",
      "text/plain": [
       "<Figure size 432x288 with 1 Axes>"
      ]
     },
     "metadata": {
      "needs_background": "light"
     },
     "output_type": "display_data"
    }
   ],
   "source": [
    "import numpy as np\n",
    "\n",
    "cum_exp_variance = np.cumsum(exp_variance)\n",
    "\n",
    "fig, ax = plt.subplots()\n",
    "ax.plot(cum_exp_variance)\n",
    "ax.axhline(y=0.85, linestyle='--',color='red')\n",
    "ax.axhline(y=0.90, linestyle='--',color='pink')\n",
    "plt.title('Cumulative Explained Variance Plot')\n",
    "plt.show()"
   ]
  },
  {
   "cell_type": "code",
   "execution_count": 25,
   "metadata": {},
   "outputs": [],
   "source": [
    "n_components = 6\n",
    "\n",
    "pca = PCA(n_components, random_state=10)\n",
    "pca.fit(scaled_train_features)\n",
    "pca_projection = pca.transform(scaled_train_features)"
   ]
  },
  {
   "cell_type": "code",
   "execution_count": 26,
   "metadata": {},
   "outputs": [],
   "source": [
    "from sklearn.model_selection import train_test_split\n",
    "from sklearn.tree import DecisionTreeClassifier\n",
    "\n",
    "train_X, test_X, train_y, test_y = train_test_split(\n",
    "    pca_projection, labels, random_state=10)\n",
    "\n",
    "tree = DecisionTreeClassifier(random_state=10)\n",
    "tree.fit(train_X, train_y)\n",
    "\n",
    "pred_labels_tree = tree.predict(test_X)"
   ]
  },
  {
   "cell_type": "code",
   "execution_count": 28,
   "metadata": {},
   "outputs": [],
   "source": [
    "from sklearn.linear_model import LogisticRegression\n",
    "\n",
    "logreg = LogisticRegression(random_state=10)\n",
    "logreg.fit(train_X, train_y)\n",
    "pred_labels_logit = logreg.predict(test_X)"
   ]
  },
  {
   "cell_type": "code",
   "execution_count": 30,
   "metadata": {},
   "outputs": [],
   "source": [
    "from sklearn.ensemble import RandomForestClassifier\n",
    "\n",
    "randreg = RandomForestClassifier(random_state=10)\n",
    "randreg.fit(train_X, train_y)\n",
    "pred_labels_rand = randreg.predict(test_X)"
   ]
  },
  {
   "cell_type": "code",
   "execution_count": 32,
   "metadata": {},
   "outputs": [],
   "source": [
    "from sklearn.ensemble import ExtraTreesClassifier\n",
    "\n",
    "etcreg = ExtraTreesClassifier(random_state=10)\n",
    "etcreg.fit(train_X, train_y)\n",
    "pred_labels_etc = etcreg.predict(test_X)"
   ]
  },
  {
   "cell_type": "code",
   "execution_count": 35,
   "metadata": {},
   "outputs": [],
   "source": [
    "from sklearn.ensemble import GradientBoostingClassifier\n",
    "\n",
    "gbcreg = GradientBoostingClassifier(random_state=10)\n",
    "gbcreg.fit(train_X, train_y)\n",
    "pred_labels_gbc = gbcreg.predict(test_X)"
   ]
  },
  {
   "cell_type": "code",
   "execution_count": 39,
   "metadata": {},
   "outputs": [
    {
     "name": "stderr",
     "output_type": "stream",
     "text": [
      "/opt/anaconda3/lib/python3.8/site-packages/xgboost/sklearn.py:892: UserWarning: The use of label encoder in XGBClassifier is deprecated and will be removed in a future release. To remove this warning, do the following: 1) Pass option use_label_encoder=False when constructing XGBClassifier object; and 2) Encode your labels (y) as integers starting with 0, i.e. 0, 1, 2, ..., [num_class - 1].\n",
      "  warnings.warn(label_encoder_deprecation_msg, UserWarning)\n"
     ]
    },
    {
     "name": "stdout",
     "output_type": "stream",
     "text": [
      "[00:52:02] WARNING: /Users/travis/build/dmlc/xgboost/src/learner.cc:1061: Starting in XGBoost 1.3.0, the default evaluation metric used with the objective 'binary:logistic' was changed from 'error' to 'logloss'. Explicitly set eval_metric if you'd like to restore the old behavior.\n"
     ]
    }
   ],
   "source": [
    "import xgboost as xg\n",
    "\n",
    "xgreg = xg.XGBClassifier(random_state=10)\n",
    "xgreg.fit(train_X, train_y)\n",
    "pred_labels_xg = xgreg.predict(test_X)"
   ]
  },
  {
   "cell_type": "code",
   "execution_count": 40,
   "metadata": {},
   "outputs": [
    {
     "name": "stdout",
     "output_type": "stream",
     "text": [
      "Decision Tree: \n",
      "               precision    recall  f1-score   support\n",
      "\n",
      "     Hip-Hop       0.60      0.60      0.60       235\n",
      "        Rock       0.90      0.90      0.90       966\n",
      "\n",
      "    accuracy                           0.84      1201\n",
      "   macro avg       0.75      0.75      0.75      1201\n",
      "weighted avg       0.84      0.84      0.84      1201\n",
      "\n",
      "Logistic Regression: \n",
      "               precision    recall  f1-score   support\n",
      "\n",
      "     Hip-Hop       0.77      0.54      0.64       235\n",
      "        Rock       0.90      0.96      0.93       966\n",
      "\n",
      "    accuracy                           0.88      1201\n",
      "   macro avg       0.83      0.75      0.78      1201\n",
      "weighted avg       0.87      0.88      0.87      1201\n",
      "\n",
      "Random Forest: \n",
      "               precision    recall  f1-score   support\n",
      "\n",
      "     Hip-Hop       0.82      0.60      0.69       235\n",
      "        Rock       0.91      0.97      0.94       966\n",
      "\n",
      "    accuracy                           0.90      1201\n",
      "   macro avg       0.86      0.79      0.82      1201\n",
      "weighted avg       0.89      0.90      0.89      1201\n",
      "\n",
      "Extra Trees: \n",
      "               precision    recall  f1-score   support\n",
      "\n",
      "     Hip-Hop       0.82      0.62      0.71       235\n",
      "        Rock       0.91      0.97      0.94       966\n",
      "\n",
      "    accuracy                           0.90      1201\n",
      "   macro avg       0.87      0.79      0.82      1201\n",
      "weighted avg       0.89      0.90      0.89      1201\n",
      "\n",
      "Gradient Boost: \n",
      "               precision    recall  f1-score   support\n",
      "\n",
      "     Hip-Hop       0.79      0.63      0.70       235\n",
      "        Rock       0.91      0.96      0.94       966\n",
      "\n",
      "    accuracy                           0.89      1201\n",
      "   macro avg       0.85      0.79      0.82      1201\n",
      "weighted avg       0.89      0.89      0.89      1201\n",
      "\n",
      "XgBoost: \n",
      "               precision    recall  f1-score   support\n",
      "\n",
      "     Hip-Hop       0.81      0.65      0.72       235\n",
      "        Rock       0.92      0.96      0.94       966\n",
      "\n",
      "    accuracy                           0.90      1201\n",
      "   macro avg       0.86      0.81      0.83      1201\n",
      "weighted avg       0.90      0.90      0.90      1201\n",
      "\n"
     ]
    }
   ],
   "source": [
    "from sklearn.metrics import classification_report\n",
    "class_rep_tree = classification_report(test_y, pred_labels_tree)\n",
    "class_rep_log = classification_report(test_y, pred_labels_logit)\n",
    "class_rep_rand = classification_report(test_y, pred_labels_rand)\n",
    "class_rep_etc = classification_report(test_y, pred_labels_etc)\n",
    "class_rep_gbc = classification_report(test_y, pred_labels_gbc)\n",
    "class_rep_xg = classification_report(test_y, pred_labels_xg)\n",
    "\n",
    "print(\"Decision Tree: \\n\", class_rep_tree)\n",
    "print(\"Logistic Regression: \\n\", class_rep_log)\n",
    "print(\"Random Forest: \\n\", class_rep_rand)\n",
    "print(\"Extra Trees: \\n\", class_rep_etc)\n",
    "print(\"Gradient Boost: \\n\", class_rep_gbc)\n",
    "print(\"XgBoost: \\n\", class_rep_xg)"
   ]
  },
  {
   "cell_type": "code",
   "execution_count": 48,
   "metadata": {},
   "outputs": [],
   "source": [
    "#Result: Thus XG Boost selected to boost performance\n",
    "#Observation: Lower f1 score\n",
    "#Reason: Imbalanced dataset"
   ]
  },
  {
   "cell_type": "code",
   "execution_count": 49,
   "metadata": {},
   "outputs": [],
   "source": [
    "#Way 1: SMOTE\n",
    "\n",
    "from imblearn.over_sampling import SMOTE\n",
    "sm = SMOTE(random_state = 2)\n",
    "train_X_res, train_y_res = sm.fit_resample(train_X, train_y.ravel())\n",
    "test_X_res, test_y_res = sm.fit_resample(test_X, test_y.ravel())"
   ]
  },
  {
   "cell_type": "code",
   "execution_count": 50,
   "metadata": {},
   "outputs": [
    {
     "name": "stderr",
     "output_type": "stream",
     "text": [
      "/opt/anaconda3/lib/python3.8/site-packages/xgboost/sklearn.py:892: UserWarning: The use of label encoder in XGBClassifier is deprecated and will be removed in a future release. To remove this warning, do the following: 1) Pass option use_label_encoder=False when constructing XGBClassifier object; and 2) Encode your labels (y) as integers starting with 0, i.e. 0, 1, 2, ..., [num_class - 1].\n",
      "  warnings.warn(label_encoder_deprecation_msg, UserWarning)\n"
     ]
    },
    {
     "name": "stdout",
     "output_type": "stream",
     "text": [
      "[00:59:36] WARNING: /Users/travis/build/dmlc/xgboost/src/learner.cc:1061: Starting in XGBoost 1.3.0, the default evaluation metric used with the objective 'binary:logistic' was changed from 'error' to 'logloss'. Explicitly set eval_metric if you'd like to restore the old behavior.\n",
      "XgBoost: \n",
      "               precision    recall  f1-score   support\n",
      "\n",
      "     Hip-Hop       0.91      0.78      0.84       966\n",
      "        Rock       0.81      0.92      0.86       966\n",
      "\n",
      "    accuracy                           0.85      1932\n",
      "   macro avg       0.86      0.85      0.85      1932\n",
      "weighted avg       0.86      0.85      0.85      1932\n",
      "\n"
     ]
    }
   ],
   "source": [
    "import xgboost as xg\n",
    "\n",
    "xgreg = xg.XGBClassifier(random_state=10)\n",
    "xgreg.fit(train_X_res, train_y_res)\n",
    "pred_labels_xg = xgreg.predict(test_X_res)\n",
    "\n",
    "class_rep_xg = classification_report(test_y_res, pred_labels_xg)\n",
    "\n",
    "print(\"XgBoost: \\n\", class_rep_xg)"
   ]
  },
  {
   "cell_type": "code",
   "execution_count": 51,
   "metadata": {},
   "outputs": [],
   "source": [
    "#SMOTE improved the f1 scores"
   ]
  },
  {
   "cell_type": "code",
   "execution_count": null,
   "metadata": {},
   "outputs": [],
   "source": []
  },
  {
   "cell_type": "code",
   "execution_count": 53,
   "metadata": {},
   "outputs": [],
   "source": [
    "#Way 2 - Balancing the dataset manually\n",
    "\n",
    "hop_only = echo_tracks.loc[echo_tracks['genre_top'] == 'Hip-Hop']\n",
    "rock_only = echo_tracks.loc[echo_tracks['genre_top'] == 'Rock']\n",
    "\n",
    "rock_only = rock_only.sample(hop_only.shape[0], random_state=10)\n",
    "\n",
    "rock_hop_bal = pd.concat([rock_only, hop_only])\n",
    "\n",
    "features = rock_hop_bal.drop(['genre_top', 'track_id'], axis=1) \n",
    "labels = rock_hop_bal['genre_top']\n",
    "pca_projection = pca.fit_transform(scaler.fit_transform(features))\n",
    "\n",
    "train_X, test_X, train_y, test_y = train_test_split(\n",
    "    pca_projection, labels, random_state=10)"
   ]
  },
  {
   "cell_type": "code",
   "execution_count": 56,
   "metadata": {},
   "outputs": [
    {
     "name": "stdout",
     "output_type": "stream",
     "text": [
      "[01:05:22] WARNING: /Users/travis/build/dmlc/xgboost/src/learner.cc:1061: Starting in XGBoost 1.3.0, the default evaluation metric used with the objective 'binary:logistic' was changed from 'error' to 'logloss'. Explicitly set eval_metric if you'd like to restore the old behavior.\n",
      "XgBoost: \n",
      "               precision    recall  f1-score   support\n",
      "\n",
      "     Hip-Hop       0.85      0.80      0.83       230\n",
      "        Rock       0.81      0.85      0.83       225\n",
      "\n",
      "    accuracy                           0.83       455\n",
      "   macro avg       0.83      0.83      0.83       455\n",
      "weighted avg       0.83      0.83      0.83       455\n",
      "\n"
     ]
    }
   ],
   "source": [
    "import xgboost as xg\n",
    "\n",
    "xgreg = xg.XGBClassifier(random_state=10)\n",
    "xgreg.fit(train_X, train_y)\n",
    "pred_labels_xg = xgreg.predict(test_X)\n",
    "\n",
    "class_rep_xg = classification_report(test_y, pred_labels_xg)\n",
    "\n",
    "print(\"XgBoost: \\n\", class_rep_xg)"
   ]
  },
  {
   "cell_type": "code",
   "execution_count": 57,
   "metadata": {},
   "outputs": [],
   "source": [
    "#Way 1 gives better higher f1 scores"
   ]
  },
  {
   "cell_type": "code",
   "execution_count": null,
   "metadata": {},
   "outputs": [],
   "source": []
  },
  {
   "cell_type": "code",
   "execution_count": 67,
   "metadata": {
    "scrolled": false
   },
   "outputs": [
    {
     "name": "stderr",
     "output_type": "stream",
     "text": [
      "/opt/anaconda3/lib/python3.8/site-packages/xgboost/sklearn.py:892: UserWarning: The use of label encoder in XGBClassifier is deprecated and will be removed in a future release. To remove this warning, do the following: 1) Pass option use_label_encoder=False when constructing XGBClassifier object; and 2) Encode your labels (y) as integers starting with 0, i.e. 0, 1, 2, ..., [num_class - 1].\n",
      "  warnings.warn(label_encoder_deprecation_msg, UserWarning)\n"
     ]
    },
    {
     "name": "stdout",
     "output_type": "stream",
     "text": [
      "[01:17:52] WARNING: /Users/travis/build/dmlc/xgboost/src/learner.cc:1061: Starting in XGBoost 1.3.0, the default evaluation metric used with the objective 'binary:logistic' was changed from 'error' to 'logloss'. Explicitly set eval_metric if you'd like to restore the old behavior.\n"
     ]
    },
    {
     "name": "stderr",
     "output_type": "stream",
     "text": [
      "/opt/anaconda3/lib/python3.8/site-packages/xgboost/sklearn.py:892: UserWarning: The use of label encoder in XGBClassifier is deprecated and will be removed in a future release. To remove this warning, do the following: 1) Pass option use_label_encoder=False when constructing XGBClassifier object; and 2) Encode your labels (y) as integers starting with 0, i.e. 0, 1, 2, ..., [num_class - 1].\n",
      "  warnings.warn(label_encoder_deprecation_msg, UserWarning)\n"
     ]
    },
    {
     "name": "stdout",
     "output_type": "stream",
     "text": [
      "[01:17:53] WARNING: /Users/travis/build/dmlc/xgboost/src/learner.cc:1061: Starting in XGBoost 1.3.0, the default evaluation metric used with the objective 'binary:logistic' was changed from 'error' to 'logloss'. Explicitly set eval_metric if you'd like to restore the old behavior.\n"
     ]
    },
    {
     "name": "stderr",
     "output_type": "stream",
     "text": [
      "/opt/anaconda3/lib/python3.8/site-packages/xgboost/sklearn.py:892: UserWarning: The use of label encoder in XGBClassifier is deprecated and will be removed in a future release. To remove this warning, do the following: 1) Pass option use_label_encoder=False when constructing XGBClassifier object; and 2) Encode your labels (y) as integers starting with 0, i.e. 0, 1, 2, ..., [num_class - 1].\n",
      "  warnings.warn(label_encoder_deprecation_msg, UserWarning)\n"
     ]
    },
    {
     "name": "stdout",
     "output_type": "stream",
     "text": [
      "[01:17:53] WARNING: /Users/travis/build/dmlc/xgboost/src/learner.cc:1061: Starting in XGBoost 1.3.0, the default evaluation metric used with the objective 'binary:logistic' was changed from 'error' to 'logloss'. Explicitly set eval_metric if you'd like to restore the old behavior.\n"
     ]
    },
    {
     "name": "stderr",
     "output_type": "stream",
     "text": [
      "/opt/anaconda3/lib/python3.8/site-packages/xgboost/sklearn.py:892: UserWarning: The use of label encoder in XGBClassifier is deprecated and will be removed in a future release. To remove this warning, do the following: 1) Pass option use_label_encoder=False when constructing XGBClassifier object; and 2) Encode your labels (y) as integers starting with 0, i.e. 0, 1, 2, ..., [num_class - 1].\n",
      "  warnings.warn(label_encoder_deprecation_msg, UserWarning)\n"
     ]
    },
    {
     "name": "stdout",
     "output_type": "stream",
     "text": [
      "[01:17:53] WARNING: /Users/travis/build/dmlc/xgboost/src/learner.cc:1061: Starting in XGBoost 1.3.0, the default evaluation metric used with the objective 'binary:logistic' was changed from 'error' to 'logloss'. Explicitly set eval_metric if you'd like to restore the old behavior.\n"
     ]
    },
    {
     "name": "stderr",
     "output_type": "stream",
     "text": [
      "/opt/anaconda3/lib/python3.8/site-packages/xgboost/sklearn.py:892: UserWarning: The use of label encoder in XGBClassifier is deprecated and will be removed in a future release. To remove this warning, do the following: 1) Pass option use_label_encoder=False when constructing XGBClassifier object; and 2) Encode your labels (y) as integers starting with 0, i.e. 0, 1, 2, ..., [num_class - 1].\n",
      "  warnings.warn(label_encoder_deprecation_msg, UserWarning)\n"
     ]
    },
    {
     "name": "stdout",
     "output_type": "stream",
     "text": [
      "[01:17:54] WARNING: /Users/travis/build/dmlc/xgboost/src/learner.cc:1061: Starting in XGBoost 1.3.0, the default evaluation metric used with the objective 'binary:logistic' was changed from 'error' to 'logloss'. Explicitly set eval_metric if you'd like to restore the old behavior.\n"
     ]
    },
    {
     "name": "stderr",
     "output_type": "stream",
     "text": [
      "/opt/anaconda3/lib/python3.8/site-packages/xgboost/sklearn.py:892: UserWarning: The use of label encoder in XGBClassifier is deprecated and will be removed in a future release. To remove this warning, do the following: 1) Pass option use_label_encoder=False when constructing XGBClassifier object; and 2) Encode your labels (y) as integers starting with 0, i.e. 0, 1, 2, ..., [num_class - 1].\n",
      "  warnings.warn(label_encoder_deprecation_msg, UserWarning)\n"
     ]
    },
    {
     "name": "stdout",
     "output_type": "stream",
     "text": [
      "[01:17:54] WARNING: /Users/travis/build/dmlc/xgboost/src/learner.cc:1061: Starting in XGBoost 1.3.0, the default evaluation metric used with the objective 'binary:logistic' was changed from 'error' to 'logloss'. Explicitly set eval_metric if you'd like to restore the old behavior.\n"
     ]
    },
    {
     "name": "stderr",
     "output_type": "stream",
     "text": [
      "/opt/anaconda3/lib/python3.8/site-packages/xgboost/sklearn.py:892: UserWarning: The use of label encoder in XGBClassifier is deprecated and will be removed in a future release. To remove this warning, do the following: 1) Pass option use_label_encoder=False when constructing XGBClassifier object; and 2) Encode your labels (y) as integers starting with 0, i.e. 0, 1, 2, ..., [num_class - 1].\n",
      "  warnings.warn(label_encoder_deprecation_msg, UserWarning)\n"
     ]
    },
    {
     "name": "stdout",
     "output_type": "stream",
     "text": [
      "[01:17:54] WARNING: /Users/travis/build/dmlc/xgboost/src/learner.cc:1061: Starting in XGBoost 1.3.0, the default evaluation metric used with the objective 'binary:logistic' was changed from 'error' to 'logloss'. Explicitly set eval_metric if you'd like to restore the old behavior.\n"
     ]
    },
    {
     "name": "stderr",
     "output_type": "stream",
     "text": [
      "/opt/anaconda3/lib/python3.8/site-packages/xgboost/sklearn.py:892: UserWarning: The use of label encoder in XGBClassifier is deprecated and will be removed in a future release. To remove this warning, do the following: 1) Pass option use_label_encoder=False when constructing XGBClassifier object; and 2) Encode your labels (y) as integers starting with 0, i.e. 0, 1, 2, ..., [num_class - 1].\n",
      "  warnings.warn(label_encoder_deprecation_msg, UserWarning)\n"
     ]
    },
    {
     "name": "stdout",
     "output_type": "stream",
     "text": [
      "[01:17:54] WARNING: /Users/travis/build/dmlc/xgboost/src/learner.cc:1061: Starting in XGBoost 1.3.0, the default evaluation metric used with the objective 'binary:logistic' was changed from 'error' to 'logloss'. Explicitly set eval_metric if you'd like to restore the old behavior.\n"
     ]
    },
    {
     "name": "stderr",
     "output_type": "stream",
     "text": [
      "/opt/anaconda3/lib/python3.8/site-packages/xgboost/sklearn.py:892: UserWarning: The use of label encoder in XGBClassifier is deprecated and will be removed in a future release. To remove this warning, do the following: 1) Pass option use_label_encoder=False when constructing XGBClassifier object; and 2) Encode your labels (y) as integers starting with 0, i.e. 0, 1, 2, ..., [num_class - 1].\n",
      "  warnings.warn(label_encoder_deprecation_msg, UserWarning)\n"
     ]
    },
    {
     "name": "stdout",
     "output_type": "stream",
     "text": [
      "[01:17:55] WARNING: /Users/travis/build/dmlc/xgboost/src/learner.cc:1061: Starting in XGBoost 1.3.0, the default evaluation metric used with the objective 'binary:logistic' was changed from 'error' to 'logloss'. Explicitly set eval_metric if you'd like to restore the old behavior.\n"
     ]
    },
    {
     "name": "stderr",
     "output_type": "stream",
     "text": [
      "/opt/anaconda3/lib/python3.8/site-packages/xgboost/sklearn.py:892: UserWarning: The use of label encoder in XGBClassifier is deprecated and will be removed in a future release. To remove this warning, do the following: 1) Pass option use_label_encoder=False when constructing XGBClassifier object; and 2) Encode your labels (y) as integers starting with 0, i.e. 0, 1, 2, ..., [num_class - 1].\n",
      "  warnings.warn(label_encoder_deprecation_msg, UserWarning)\n"
     ]
    },
    {
     "name": "stdout",
     "output_type": "stream",
     "text": [
      "[01:17:55] WARNING: /Users/travis/build/dmlc/xgboost/src/learner.cc:1061: Starting in XGBoost 1.3.0, the default evaluation metric used with the objective 'binary:logistic' was changed from 'error' to 'logloss'. Explicitly set eval_metric if you'd like to restore the old behavior.\n"
     ]
    }
   ],
   "source": [
    "from sklearn.model_selection import KFold, cross_val_score\n",
    "\n",
    "kf = KFold(10)\n",
    "\n",
    "tree = DecisionTreeClassifier(random_state=10)\n",
    "logreg = LogisticRegression(random_state=10)\n",
    "randreg = RandomForestClassifier(random_state=10)\n",
    "etcreg = ExtraTreesClassifier(random_state=10)\n",
    "gbboostreg = GradientBoostingClassifier(random_state=10)\n",
    "xgreg = xg.XGBClassifier(random_state=10)\n",
    "\n",
    "tree_score = cross_val_score(tree, pca_projection, labels, cv=kf)\n",
    "logit_score = cross_val_score(logreg, pca_projection, labels, cv=kf)\n",
    "rand_score = cross_val_score(randreg, pca_projection, labels, cv=kf)\n",
    "etc_score = cross_val_score(etcreg, pca_projection, labels, cv=kf)\n",
    "gb_score = cross_val_score(gbboostreg, pca_projection, labels, cv=kf)\n",
    "xg_score = cross_val_score(xgreg, pca_projection, labels, cv=kf)"
   ]
  },
  {
   "cell_type": "code",
   "execution_count": 66,
   "metadata": {},
   "outputs": [
    {
     "name": "stdout",
     "output_type": "stream",
     "text": [
      "\n",
      "Decision Tree: 0.75 0.04 \n",
      "Logistic Regression: 0.78 0.02 \n",
      "Random Forest : 0.81 0.02 \n",
      "Extra Trees: 0.82 0.03 \n",
      "Gradient Boost: 0.8 0.03 \n",
      "XgBoost: 0.8 0.03\n"
     ]
    }
   ],
   "source": [
    "print(\"\\nDecision Tree:\", round(np.mean(tree_score),2), round(np.std(tree_score),2),\n",
    "      \"\\nLogistic Regression:\", round(np.mean(logit_score),2),round(np.std(logit_score),2),\n",
    "     \"\\nRandom Forest :\", round(np.mean(rand_score),2),round(np.std(rand_score),2),\n",
    "     \"\\nExtra Trees:\", round(np.mean(etc_score),2),round(np.std(etc_score),2),\n",
    "      \"\\nGradient Boost:\", round(np.mean(gb_score),2),round(np.std(gb_score),2),\n",
    "      \n",
    "      \"\\nXgBoost:\", round(np.mean(xg_score),2),round(np.std(xg_score),2)\n",
    "     )"
   ]
  },
  {
   "cell_type": "code",
   "execution_count": null,
   "metadata": {},
   "outputs": [],
   "source": []
  },
  {
   "cell_type": "code",
   "execution_count": 68,
   "metadata": {},
   "outputs": [],
   "source": [
    "#Selecting Extra Trees"
   ]
  },
  {
   "cell_type": "code",
   "execution_count": 83,
   "metadata": {},
   "outputs": [],
   "source": [
    "test = echo_tracks.iloc[0][1:-1]"
   ]
  },
  {
   "cell_type": "code",
   "execution_count": 102,
   "metadata": {},
   "outputs": [],
   "source": [
    "test_pca = pca.transform(scaler.transform(np.array(test).reshape(1,-1)))"
   ]
  },
  {
   "cell_type": "code",
   "execution_count": 112,
   "metadata": {},
   "outputs": [
    {
     "data": {
      "text/plain": [
       "array([[ 0.92607418,  0.83507183,  0.00119811, -0.83028383, -0.21387017,\n",
       "         0.49485354]])"
      ]
     },
     "execution_count": 112,
     "metadata": {},
     "output_type": "execute_result"
    }
   ],
   "source": [
    "test_pca"
   ]
  },
  {
   "cell_type": "code",
   "execution_count": 103,
   "metadata": {},
   "outputs": [
    {
     "data": {
      "text/plain": [
       "Index(['track_id', 'acousticness', 'danceability', 'energy',\n",
       "       'instrumentalness', 'liveness', 'speechiness', 'tempo', 'valence',\n",
       "       'genre_top'],\n",
       "      dtype='object')"
      ]
     },
     "execution_count": 103,
     "metadata": {},
     "output_type": "execute_result"
    }
   ],
   "source": [
    "echo_tracks.columns"
   ]
  },
  {
   "cell_type": "code",
   "execution_count": 106,
   "metadata": {},
   "outputs": [
    {
     "data": {
      "text/plain": [
       "array(['Hip-Hop'], dtype=object)"
      ]
     },
     "execution_count": 106,
     "metadata": {},
     "output_type": "execute_result"
    }
   ],
   "source": [
    "etc = ExtraTreesClassifier(random_state=10)\n",
    "etcreg = etc.fit(pca_projection,labels)\n",
    "etcreg.predict(test_pca)\n",
    "#predict(test_pca)"
   ]
  },
  {
   "cell_type": "code",
   "execution_count": 111,
   "metadata": {},
   "outputs": [
    {
     "data": {
      "text/plain": [
       "track_id                    2\n",
       "acousticness         0.416675\n",
       "danceability         0.675894\n",
       "energy               0.634476\n",
       "instrumentalness    0.0106281\n",
       "liveness             0.177647\n",
       "speechiness           0.15931\n",
       "tempo                 165.922\n",
       "valence              0.576661\n",
       "genre_top             Hip-Hop\n",
       "Name: 0, dtype: object"
      ]
     },
     "execution_count": 111,
     "metadata": {},
     "output_type": "execute_result"
    }
   ],
   "source": [
    "#cross check output\n",
    "echo_tracks.iloc[0]"
   ]
  },
  {
   "cell_type": "code",
   "execution_count": null,
   "metadata": {},
   "outputs": [],
   "source": []
  }
 ],
 "metadata": {
  "kernelspec": {
   "display_name": "Python 3",
   "language": "python",
   "name": "python3"
  },
  "language_info": {
   "codemirror_mode": {
    "name": "ipython",
    "version": 3
   },
   "file_extension": ".py",
   "mimetype": "text/x-python",
   "name": "python",
   "nbconvert_exporter": "python",
   "pygments_lexer": "ipython3",
   "version": "3.8.5"
  }
 },
 "nbformat": 4,
 "nbformat_minor": 4
}
